{
  "cells": [
    {
      "cell_type": "markdown",
      "metadata": {
        "id": "N4mZfazSRLx7"
      },
      "source": [
        "def scale_images(data)ée"
      ]
    },
    {
      "cell_type": "code",
      "execution_count": null,
      "metadata": {
        "colab": {
          "base_uri": "https://localhost:8080/"
        },
        "id": "ODRUrhzMRSFR",
        "outputId": "9f0bfdf4-87fd-45a4-9556-7cce7b4a6225"
      },
      "outputs": [
        {
          "output_type": "stream",
          "name": "stdout",
          "text": [
            "Requirement already satisfied: tensorflow in /usr/local/lib/python3.10/dist-packages (2.12.0)\n",
            "Collecting tensorflow-gpu\n",
            "  Downloading tensorflow-gpu-2.12.0.tar.gz (2.6 kB)\n",
            "  \u001b[1;31merror\u001b[0m: \u001b[1msubprocess-exited-with-error\u001b[0m\n",
            "  \n",
            "  \u001b[31m×\u001b[0m \u001b[32mpython setup.py egg_info\u001b[0m did not run successfully.\n",
            "  \u001b[31m│\u001b[0m exit code: \u001b[1;36m1\u001b[0m\n",
            "  \u001b[31m╰─>\u001b[0m See above for output.\n",
            "  \n",
            "  \u001b[1;35mnote\u001b[0m: This error originates from a subprocess, and is likely not a problem with pip.\n",
            "  Preparing metadata (setup.py) ... \u001b[?25l\u001b[?25herror\n",
            "\u001b[1;31merror\u001b[0m: \u001b[1mmetadata-generation-failed\u001b[0m\n",
            "\n",
            "\u001b[31m×\u001b[0m Encountered error while generating package metadata.\n",
            "\u001b[31m╰─>\u001b[0m See above for output.\n",
            "\n",
            "\u001b[1;35mnote\u001b[0m: This is an issue with the package mentioned above, not pip.\n",
            "\u001b[1;36mhint\u001b[0m: See above for details.\n",
            "Requirement already satisfied: ipywidgets in /usr/local/lib/python3.10/dist-packages (7.7.1)\n",
            "Requirement already satisfied: ipykernel>=4.5.1 in /usr/local/lib/python3.10/dist-packages (from ipywidgets) (5.5.6)\n",
            "Requirement already satisfied: ipython-genutils~=0.2.0 in /usr/local/lib/python3.10/dist-packages (from ipywidgets) (0.2.0)\n",
            "Requirement already satisfied: traitlets>=4.3.1 in /usr/local/lib/python3.10/dist-packages (from ipywidgets) (5.7.1)\n",
            "Requirement already satisfied: widgetsnbextension~=3.6.0 in /usr/local/lib/python3.10/dist-packages (from ipywidgets) (3.6.4)\n",
            "Requirement already satisfied: ipython>=4.0.0 in /usr/local/lib/python3.10/dist-packages (from ipywidgets) (7.34.0)\n",
            "Requirement already satisfied: jupyterlab-widgets>=1.0.0 in /usr/local/lib/python3.10/dist-packages (from ipywidgets) (3.0.8)\n",
            "Requirement already satisfied: jupyter-client in /usr/local/lib/python3.10/dist-packages (from ipykernel>=4.5.1->ipywidgets) (6.1.12)\n",
            "Requirement already satisfied: tornado>=4.2 in /usr/local/lib/python3.10/dist-packages (from ipykernel>=4.5.1->ipywidgets) (6.3.1)\n",
            "Requirement already satisfied: setuptools>=18.5 in /usr/local/lib/python3.10/dist-packages (from ipython>=4.0.0->ipywidgets) (67.7.2)\n",
            "Collecting jedi>=0.16 (from ipython>=4.0.0->ipywidgets)\n",
            "  Downloading jedi-0.18.2-py2.py3-none-any.whl (1.6 MB)\n",
            "\u001b[2K     \u001b[90m━━━━━━━━━━━━━━━━━━━━━━━━━━━━━━━━━━━━━━━━\u001b[0m \u001b[32m1.6/1.6 MB\u001b[0m \u001b[31m23.7 MB/s\u001b[0m eta \u001b[36m0:00:00\u001b[0m\n",
            "\u001b[?25hRequirement already satisfied: decorator in /usr/local/lib/python3.10/dist-packages (from ipython>=4.0.0->ipywidgets) (4.4.2)\n",
            "Requirement already satisfied: pickleshare in /usr/local/lib/python3.10/dist-packages (from ipython>=4.0.0->ipywidgets) (0.7.5)\n",
            "Requirement already satisfied: prompt-toolkit!=3.0.0,!=3.0.1,<3.1.0,>=2.0.0 in /usr/local/lib/python3.10/dist-packages (from ipython>=4.0.0->ipywidgets) (3.0.39)\n",
            "Requirement already satisfied: pygments in /usr/local/lib/python3.10/dist-packages (from ipython>=4.0.0->ipywidgets) (2.14.0)\n",
            "Requirement already satisfied: backcall in /usr/local/lib/python3.10/dist-packages (from ipython>=4.0.0->ipywidgets) (0.2.0)\n",
            "Requirement already satisfied: matplotlib-inline in /usr/local/lib/python3.10/dist-packages (from ipython>=4.0.0->ipywidgets) (0.1.6)\n",
            "Requirement already satisfied: pexpect>4.3 in /usr/local/lib/python3.10/dist-packages (from ipython>=4.0.0->ipywidgets) (4.8.0)\n",
            "Requirement already satisfied: notebook>=4.4.1 in /usr/local/lib/python3.10/dist-packages (from widgetsnbextension~=3.6.0->ipywidgets) (6.4.8)\n",
            "Requirement already satisfied: parso<0.9.0,>=0.8.0 in /usr/local/lib/python3.10/dist-packages (from jedi>=0.16->ipython>=4.0.0->ipywidgets) (0.8.3)\n",
            "Requirement already satisfied: jinja2 in /usr/local/lib/python3.10/dist-packages (from notebook>=4.4.1->widgetsnbextension~=3.6.0->ipywidgets) (3.1.2)\n",
            "Requirement already satisfied: pyzmq>=17 in /usr/local/lib/python3.10/dist-packages (from notebook>=4.4.1->widgetsnbextension~=3.6.0->ipywidgets) (23.2.1)\n",
            "Requirement already satisfied: argon2-cffi in /usr/local/lib/python3.10/dist-packages (from notebook>=4.4.1->widgetsnbextension~=3.6.0->ipywidgets) (21.3.0)\n",
            "Requirement already satisfied: jupyter-core>=4.6.1 in /usr/local/lib/python3.10/dist-packages (from notebook>=4.4.1->widgetsnbextension~=3.6.0->ipywidgets) (5.3.1)\n",
            "Requirement already satisfied: nbformat in /usr/local/lib/python3.10/dist-packages (from notebook>=4.4.1->widgetsnbextension~=3.6.0->ipywidgets) (5.9.1)\n",
            "Requirement already satisfied: nbconvert in /usr/local/lib/python3.10/dist-packages (from notebook>=4.4.1->widgetsnbextension~=3.6.0->ipywidgets) (6.5.4)\n",
            "Requirement already satisfied: nest-asyncio>=1.5 in /usr/local/lib/python3.10/dist-packages (from notebook>=4.4.1->widgetsnbextension~=3.6.0->ipywidgets) (1.5.6)\n",
            "Requirement already satisfied: Send2Trash>=1.8.0 in /usr/local/lib/python3.10/dist-packages (from notebook>=4.4.1->widgetsnbextension~=3.6.0->ipywidgets) (1.8.2)\n",
            "Requirement already satisfied: terminado>=0.8.3 in /usr/local/lib/python3.10/dist-packages (from notebook>=4.4.1->widgetsnbextension~=3.6.0->ipywidgets) (0.17.1)\n",
            "Requirement already satisfied: prometheus-client in /usr/local/lib/python3.10/dist-packages (from notebook>=4.4.1->widgetsnbextension~=3.6.0->ipywidgets) (0.17.1)\n",
            "Requirement already satisfied: python-dateutil>=2.1 in /usr/local/lib/python3.10/dist-packages (from jupyter-client->ipykernel>=4.5.1->ipywidgets) (2.8.2)\n",
            "Requirement already satisfied: ptyprocess>=0.5 in /usr/local/lib/python3.10/dist-packages (from pexpect>4.3->ipython>=4.0.0->ipywidgets) (0.7.0)\n",
            "Requirement already satisfied: wcwidth in /usr/local/lib/python3.10/dist-packages (from prompt-toolkit!=3.0.0,!=3.0.1,<3.1.0,>=2.0.0->ipython>=4.0.0->ipywidgets) (0.2.6)\n",
            "Requirement already satisfied: platformdirs>=2.5 in /usr/local/lib/python3.10/dist-packages (from jupyter-core>=4.6.1->notebook>=4.4.1->widgetsnbextension~=3.6.0->ipywidgets) (3.8.1)\n",
            "Requirement already satisfied: six>=1.5 in /usr/local/lib/python3.10/dist-packages (from python-dateutil>=2.1->jupyter-client->ipykernel>=4.5.1->ipywidgets) (1.16.0)\n",
            "Requirement already satisfied: argon2-cffi-bindings in /usr/local/lib/python3.10/dist-packages (from argon2-cffi->notebook>=4.4.1->widgetsnbextension~=3.6.0->ipywidgets) (21.2.0)\n",
            "Requirement already satisfied: MarkupSafe>=2.0 in /usr/local/lib/python3.10/dist-packages (from jinja2->notebook>=4.4.1->widgetsnbextension~=3.6.0->ipywidgets) (2.1.3)\n",
            "Requirement already satisfied: lxml in /usr/local/lib/python3.10/dist-packages (from nbconvert->notebook>=4.4.1->widgetsnbextension~=3.6.0->ipywidgets) (4.9.3)\n",
            "Requirement already satisfied: beautifulsoup4 in /usr/local/lib/python3.10/dist-packages (from nbconvert->notebook>=4.4.1->widgetsnbextension~=3.6.0->ipywidgets) (4.11.2)\n",
            "Requirement already satisfied: bleach in /usr/local/lib/python3.10/dist-packages (from nbconvert->notebook>=4.4.1->widgetsnbextension~=3.6.0->ipywidgets) (6.0.0)\n",
            "Requirement already satisfied: defusedxml in /usr/local/lib/python3.10/dist-packages (from nbconvert->notebook>=4.4.1->widgetsnbextension~=3.6.0->ipywidgets) (0.7.1)\n",
            "Requirement already satisfied: entrypoints>=0.2.2 in /usr/local/lib/python3.10/dist-packages (from nbconvert->notebook>=4.4.1->widgetsnbextension~=3.6.0->ipywidgets) (0.4)\n",
            "Requirement already satisfied: jupyterlab-pygments in /usr/local/lib/python3.10/dist-packages (from nbconvert->notebook>=4.4.1->widgetsnbextension~=3.6.0->ipywidgets) (0.2.2)\n",
            "Requirement already satisfied: mistune<2,>=0.8.1 in /usr/local/lib/python3.10/dist-packages (from nbconvert->notebook>=4.4.1->widgetsnbextension~=3.6.0->ipywidgets) (0.8.4)\n",
            "Requirement already satisfied: nbclient>=0.5.0 in /usr/local/lib/python3.10/dist-packages (from nbconvert->notebook>=4.4.1->widgetsnbextension~=3.6.0->ipywidgets) (0.8.0)\n",
            "Requirement already satisfied: packaging in /usr/local/lib/python3.10/dist-packages (from nbconvert->notebook>=4.4.1->widgetsnbextension~=3.6.0->ipywidgets) (23.1)\n",
            "Requirement already satisfied: pandocfilters>=1.4.1 in /usr/local/lib/python3.10/dist-packages (from nbconvert->notebook>=4.4.1->widgetsnbextension~=3.6.0->ipywidgets) (1.5.0)\n",
            "Requirement already satisfied: tinycss2 in /usr/local/lib/python3.10/dist-packages (from nbconvert->notebook>=4.4.1->widgetsnbextension~=3.6.0->ipywidgets) (1.2.1)\n",
            "Requirement already satisfied: fastjsonschema in /usr/local/lib/python3.10/dist-packages (from nbformat->notebook>=4.4.1->widgetsnbextension~=3.6.0->ipywidgets) (2.17.1)\n",
            "Requirement already satisfied: jsonschema>=2.6 in /usr/local/lib/python3.10/dist-packages (from nbformat->notebook>=4.4.1->widgetsnbextension~=3.6.0->ipywidgets) (4.3.3)\n",
            "Requirement already satisfied: attrs>=17.4.0 in /usr/local/lib/python3.10/dist-packages (from jsonschema>=2.6->nbformat->notebook>=4.4.1->widgetsnbextension~=3.6.0->ipywidgets) (23.1.0)\n",
            "Requirement already satisfied: pyrsistent!=0.17.0,!=0.17.1,!=0.17.2,>=0.14.0 in /usr/local/lib/python3.10/dist-packages (from jsonschema>=2.6->nbformat->notebook>=4.4.1->widgetsnbextension~=3.6.0->ipywidgets) (0.19.3)\n",
            "Requirement already satisfied: cffi>=1.0.1 in /usr/local/lib/python3.10/dist-packages (from argon2-cffi-bindings->argon2-cffi->notebook>=4.4.1->widgetsnbextension~=3.6.0->ipywidgets) (1.15.1)\n",
            "Requirement already satisfied: soupsieve>1.2 in /usr/local/lib/python3.10/dist-packages (from beautifulsoup4->nbconvert->notebook>=4.4.1->widgetsnbextension~=3.6.0->ipywidgets) (2.4.1)\n",
            "Requirement already satisfied: webencodings in /usr/local/lib/python3.10/dist-packages (from bleach->nbconvert->notebook>=4.4.1->widgetsnbextension~=3.6.0->ipywidgets) (0.5.1)\n",
            "Requirement already satisfied: pycparser in /usr/local/lib/python3.10/dist-packages (from cffi>=1.0.1->argon2-cffi-bindings->argon2-cffi->notebook>=4.4.1->widgetsnbextension~=3.6.0->ipywidgets) (2.21)\n",
            "Installing collected packages: jedi\n",
            "Successfully installed jedi-0.18.2\n"
          ]
        }
      ],
      "source": [
        "!pip install tensorflow tensorflow-gpu matplotlib tensorflow-datasets\n",
        "!pip install ipywidgets"
      ]
    },
    {
      "cell_type": "code",
      "execution_count": null,
      "metadata": {
        "colab": {
          "base_uri": "https://localhost:8080/"
        },
        "id": "N4-XRgppTHn_",
        "outputId": "e4ce74a9-0226-4d43-ce52-eb6c5278d063"
      },
      "outputs": [
        {
          "name": "stdout",
          "output_type": "stream",
          "text": [
            "Package                          Version\n",
            "-------------------------------- ---------------------\n",
            "absl-py                          1.4.0\n",
            "aiohttp                          3.8.4\n",
            "aiosignal                        1.3.1\n",
            "alabaster                        0.7.13\n",
            "albumentations                   1.2.1\n",
            "altair                           4.2.2\n",
            "anyio                            3.7.1\n",
            "appdirs                          1.4.4\n",
            "argon2-cffi                      21.3.0\n",
            "argon2-cffi-bindings             21.2.0\n",
            "array-record                     0.4.0\n",
            "arviz                            0.15.1\n",
            "astropy                          5.2.2\n",
            "astunparse                       1.6.3\n",
            "async-timeout                    4.0.2\n",
            "attrs                            23.1.0\n",
            "audioread                        3.0.0\n",
            "autograd                         1.6.2\n",
            "Babel                            2.12.1\n",
            "backcall                         0.2.0\n",
            "beautifulsoup4                   4.11.2\n",
            "bleach                           6.0.0\n",
            "blis                             0.7.9\n",
            "blosc2                           2.0.0\n",
            "bokeh                            2.4.3\n",
            "branca                           0.6.0\n",
            "build                            0.10.0\n",
            "CacheControl                     0.13.1\n",
            "cachetools                       5.3.1\n",
            "catalogue                        2.0.8\n",
            "certifi                          2023.5.7\n",
            "cffi                             1.15.1\n",
            "chardet                          4.0.0\n",
            "charset-normalizer               2.0.12\n",
            "chex                             0.1.7\n",
            "click                            8.1.4\n",
            "click-plugins                    1.1.1\n",
            "cligj                            0.7.2\n",
            "cloudpickle                      2.2.1\n",
            "cmake                            3.25.2\n",
            "cmdstanpy                        1.1.0\n",
            "colorcet                         3.0.1\n",
            "colorlover                       0.3.0\n",
            "community                        1.0.0b1\n",
            "confection                       0.1.0\n",
            "cons                             0.4.6\n",
            "contextlib2                      0.6.0.post1\n",
            "contourpy                        1.1.0\n",
            "convertdate                      2.4.0\n",
            "cufflinks                        0.17.3\n",
            "cvxopt                           1.3.1\n",
            "cvxpy                            1.3.2\n",
            "cycler                           0.11.0\n",
            "cymem                            2.0.7\n",
            "Cython                           0.29.36\n",
            "dask                             2022.12.1\n",
            "datascience                      0.17.6\n",
            "db-dtypes                        1.1.1\n",
            "dbus-python                      1.2.16\n",
            "debugpy                          1.6.6\n",
            "decorator                        4.4.2\n",
            "defusedxml                       0.7.1\n",
            "distributed                      2022.12.1\n",
            "dlib                             19.24.2\n",
            "dm-tree                          0.1.8\n",
            "docutils                         0.16\n",
            "dopamine-rl                      4.0.6\n",
            "duckdb                           0.8.1\n",
            "earthengine-api                  0.1.358\n",
            "easydict                         1.10\n",
            "ecos                             2.0.12\n",
            "editdistance                     0.6.2\n",
            "en-core-web-sm                   3.5.0\n",
            "entrypoints                      0.4\n",
            "ephem                            4.1.4\n",
            "et-xmlfile                       1.1.0\n",
            "etils                            1.3.0\n",
            "etuples                          0.3.9\n",
            "exceptiongroup                   1.1.2\n",
            "fastai                           2.7.12\n",
            "fastcore                         1.5.29\n",
            "fastdownload                     0.0.7\n",
            "fastjsonschema                   2.17.1\n",
            "fastprogress                     1.0.3\n",
            "fastrlock                        0.8.1\n",
            "filelock                         3.12.2\n",
            "Fiona                            1.9.4.post1\n",
            "firebase-admin                   5.3.0\n",
            "Flask                            2.2.5\n",
            "flatbuffers                      23.5.26\n",
            "flax                             0.6.11\n",
            "folium                           0.14.0\n",
            "fonttools                        4.40.0\n",
            "frozendict                       2.3.8\n",
            "frozenlist                       1.3.3\n",
            "fsspec                           2023.6.0\n",
            "future                           0.18.3\n",
            "gast                             0.4.0\n",
            "gcsfs                            2023.6.0\n",
            "GDAL                             3.3.2\n",
            "gdown                            4.6.6\n",
            "gensim                           4.3.1\n",
            "geographiclib                    2.0\n",
            "geopandas                        0.13.2\n",
            "geopy                            2.3.0\n",
            "gin-config                       0.5.0\n",
            "glob2                            0.7\n",
            "google                           2.0.3\n",
            "google-api-core                  2.11.1\n",
            "google-api-python-client         2.84.0\n",
            "google-auth                      2.17.3\n",
            "google-auth-httplib2             0.1.0\n",
            "google-auth-oauthlib             1.0.0\n",
            "google-cloud-bigquery            3.10.0\n",
            "google-cloud-bigquery-connection 1.12.1\n",
            "google-cloud-bigquery-storage    2.22.0\n",
            "google-cloud-core                2.3.3\n",
            "google-cloud-datastore           2.15.2\n",
            "google-cloud-firestore           2.11.1\n",
            "google-cloud-functions           1.13.1\n",
            "google-cloud-language            2.9.1\n",
            "google-cloud-storage             2.8.0\n",
            "google-cloud-translate           3.11.2\n",
            "google-colab                     1.0.0\n",
            "google-crc32c                    1.5.0\n",
            "google-pasta                     0.2.0\n",
            "google-resumable-media           2.5.0\n",
            "googleapis-common-protos         1.59.1\n",
            "googledrivedownloader            0.4\n",
            "graphviz                         0.20.1\n",
            "greenlet                         2.0.2\n",
            "grpc-google-iam-v1               0.12.6\n",
            "grpcio                           1.56.0\n",
            "grpcio-status                    1.48.2\n",
            "gspread                          3.4.2\n",
            "gspread-dataframe                3.0.8\n",
            "gym                              0.25.2\n",
            "gym-notices                      0.0.8\n",
            "h5netcdf                         1.2.0\n",
            "h5py                             3.8.0\n",
            "holidays                         0.28\n",
            "holoviews                        1.15.4\n",
            "html5lib                         1.1\n",
            "httpimport                       1.3.0\n",
            "httplib2                         0.21.0\n",
            "humanize                         4.6.0\n",
            "hyperopt                         0.2.7\n",
            "idna                             3.4\n",
            "imageio                          2.25.1\n",
            "imageio-ffmpeg                   0.4.8\n",
            "imagesize                        1.4.1\n",
            "imbalanced-learn                 0.10.1\n",
            "imgaug                           0.4.0\n",
            "importlib-resources              5.12.0\n",
            "imutils                          0.5.4\n",
            "inflect                          6.0.5\n",
            "iniconfig                        2.0.0\n",
            "intel-openmp                     2023.1.0\n",
            "ipykernel                        5.5.6\n",
            "ipython                          7.34.0\n",
            "ipython-genutils                 0.2.0\n",
            "ipython-sql                      0.4.1\n",
            "ipywidgets                       7.7.1\n",
            "itsdangerous                     2.1.2\n",
            "jax                              0.4.13\n",
            "jaxlib                           0.4.13+cuda11.cudnn86\n",
            "jedi                             0.18.2\n",
            "jieba                            0.42.1\n",
            "Jinja2                           3.1.2\n",
            "joblib                           1.3.1\n",
            "jsonpickle                       3.0.1\n",
            "jsonschema                       4.3.3\n",
            "jupyter-client                   6.1.12\n",
            "jupyter-console                  6.1.0\n",
            "jupyter_core                     5.3.1\n",
            "jupyter-server                   1.24.0\n",
            "jupyterlab-pygments              0.2.2\n",
            "jupyterlab-widgets               3.0.8\n",
            "kaggle                           1.5.15\n",
            "keras                            2.12.0\n",
            "kiwisolver                       1.4.4\n",
            "langcodes                        3.3.0\n",
            "lazy_loader                      0.3\n",
            "libclang                         16.0.0\n",
            "librosa                          0.10.0.post2\n",
            "lightgbm                         3.3.5\n",
            "lit                              16.0.6\n",
            "llvmlite                         0.39.1\n",
            "locket                           1.0.0\n",
            "logical-unification              0.4.6\n",
            "LunarCalendar                    0.0.9\n",
            "lxml                             4.9.3\n",
            "Markdown                         3.4.3\n",
            "markdown-it-py                   3.0.0\n",
            "MarkupSafe                       2.1.3\n",
            "matplotlib                       3.7.1\n",
            "matplotlib-inline                0.1.6\n",
            "matplotlib-venn                  0.11.9\n",
            "mdurl                            0.1.2\n",
            "miniKanren                       1.0.3\n",
            "missingno                        0.5.2\n",
            "mistune                          0.8.4\n",
            "mizani                           0.8.1\n",
            "mkl                              2019.0\n",
            "ml-dtypes                        0.2.0\n",
            "mlxtend                          0.14.0\n",
            "more-itertools                   9.1.0\n",
            "moviepy                          1.0.3\n",
            "mpmath                           1.3.0\n",
            "msgpack                          1.0.5\n",
            "multidict                        6.0.4\n",
            "multipledispatch                 1.0.0\n",
            "multitasking                     0.0.11\n",
            "murmurhash                       1.0.9\n",
            "music21                          8.1.0\n",
            "natsort                          8.3.1\n",
            "nbclient                         0.8.0\n",
            "nbconvert                        6.5.4\n",
            "nbformat                         5.9.0\n",
            "nest-asyncio                     1.5.6\n",
            "networkx                         3.1\n",
            "nibabel                          3.0.2\n",
            "nltk                             3.8.1\n",
            "notebook                         6.4.8\n",
            "numba                            0.56.4\n",
            "numexpr                          2.8.4\n",
            "numpy                            1.22.4\n",
            "oauth2client                     4.1.3\n",
            "oauthlib                         3.2.2\n",
            "opencv-contrib-python            4.7.0.72\n",
            "opencv-python                    4.7.0.72\n",
            "opencv-python-headless           4.8.0.74\n",
            "openpyxl                         3.0.10\n",
            "opt-einsum                       3.3.0\n",
            "optax                            0.1.5\n",
            "orbax-checkpoint                 0.2.7\n",
            "osqp                             0.6.2.post8\n",
            "packaging                        23.1\n",
            "palettable                       3.3.3\n",
            "pandas                           1.5.3\n",
            "pandas-datareader                0.10.0\n",
            "pandas-gbq                       0.17.9\n",
            "pandocfilters                    1.5.0\n",
            "panel                            0.14.4\n",
            "param                            1.13.0\n",
            "parso                            0.8.3\n",
            "partd                            1.4.0\n",
            "pathlib                          1.0.1\n",
            "pathy                            0.10.2\n",
            "patsy                            0.5.3\n",
            "pexpect                          4.8.0\n",
            "pickleshare                      0.7.5\n",
            "Pillow                           8.4.0\n",
            "pip                              23.1.2\n",
            "pip-tools                        6.13.0\n",
            "platformdirs                     3.8.1\n",
            "plotly                           5.13.1\n",
            "plotnine                         0.10.1\n",
            "pluggy                           1.2.0\n",
            "polars                           0.17.3\n",
            "pooch                            1.6.0\n",
            "portpicker                       1.5.2\n",
            "prefetch-generator               1.0.3\n",
            "preshed                          3.0.8\n",
            "prettytable                      0.7.2\n",
            "proglog                          0.1.10\n",
            "progressbar2                     4.2.0\n",
            "prometheus-client                0.17.0\n",
            "promise                          2.3\n",
            "prompt-toolkit                   3.0.39\n",
            "prophet                          1.1.4\n",
            "proto-plus                       1.22.3\n",
            "protobuf                         3.20.3\n",
            "psutil                           5.9.5\n",
            "psycopg2                         2.9.6\n",
            "ptyprocess                       0.7.0\n",
            "py-cpuinfo                       9.0.0\n",
            "py4j                             0.10.9.7\n",
            "pyarrow                          9.0.0\n",
            "pyasn1                           0.5.0\n",
            "pyasn1-modules                   0.3.0\n",
            "pycocotools                      2.0.6\n",
            "pycparser                        2.21\n",
            "pyct                             0.5.0\n",
            "pydantic                         1.10.11\n",
            "pydata-google-auth               1.8.0\n",
            "pydot                            1.4.2\n",
            "pydot-ng                         2.0.0\n",
            "pydotplus                        2.0.2\n",
            "PyDrive                          1.3.1\n",
            "pyerfa                           2.0.0.3\n",
            "pygame                           2.5.0\n",
            "Pygments                         2.14.0\n",
            "PyGObject                        3.36.0\n",
            "pymc                             5.1.2\n",
            "PyMeeus                          0.5.12\n",
            "pymystem3                        0.2.0\n",
            "PyOpenGL                         3.1.7\n",
            "pyparsing                        3.1.0\n",
            "pyproj                           3.6.0\n",
            "pyproject_hooks                  1.0.0\n",
            "pyrsistent                       0.19.3\n",
            "PySocks                          1.7.1\n",
            "pytensor                         2.10.1\n",
            "pytest                           7.2.2\n",
            "python-apt                       0.0.0\n",
            "python-dateutil                  2.8.2\n",
            "python-louvain                   0.16\n",
            "python-slugify                   8.0.1\n",
            "python-utils                     3.7.0\n",
            "pytz                             2022.7.1\n",
            "pyviz-comms                      2.3.2\n",
            "PyWavelets                       1.4.1\n",
            "PyYAML                           6.0\n",
            "pyzmq                            23.2.1\n",
            "qdldl                            0.1.7.post0\n",
            "qudida                           0.0.4\n",
            "regex                            2022.10.31\n",
            "requests                         2.27.1\n",
            "requests-oauthlib                1.3.1\n",
            "requests-unixsocket              0.2.0\n",
            "requirements-parser              0.5.0\n",
            "rich                             13.4.2\n",
            "rpy2                             3.5.5\n",
            "rsa                              4.9\n",
            "scikit-image                     0.19.3\n",
            "scikit-learn                     1.2.2\n",
            "scipy                            1.10.1\n",
            "scs                              3.2.3\n",
            "seaborn                          0.12.2\n",
            "Send2Trash                       1.8.2\n",
            "setuptools                       67.7.2\n",
            "shapely                          2.0.1\n",
            "six                              1.16.0\n",
            "sklearn-pandas                   2.2.0\n",
            "smart-open                       6.3.0\n",
            "sniffio                          1.3.0\n",
            "snowballstemmer                  2.2.0\n",
            "sortedcontainers                 2.4.0\n",
            "soundfile                        0.12.1\n",
            "soupsieve                        2.4.1\n",
            "soxr                             0.3.5\n",
            "spacy                            3.5.4\n",
            "spacy-legacy                     3.0.12\n",
            "spacy-loggers                    1.0.4\n",
            "Sphinx                           3.5.4\n",
            "sphinxcontrib-applehelp          1.0.4\n",
            "sphinxcontrib-devhelp            1.0.2\n",
            "sphinxcontrib-htmlhelp           2.0.1\n",
            "sphinxcontrib-jsmath             1.0.1\n",
            "sphinxcontrib-qthelp             1.0.3\n",
            "sphinxcontrib-serializinghtml    1.1.5\n",
            "SQLAlchemy                       2.0.18\n",
            "sqlparse                         0.4.4\n",
            "srsly                            2.4.6\n",
            "statsmodels                      0.13.5\n",
            "sympy                            1.11.1\n",
            "tables                           3.8.0\n",
            "tabulate                         0.8.10\n",
            "tblib                            2.0.0\n",
            "tenacity                         8.2.2\n",
            "tensorboard                      2.12.3\n",
            "tensorboard-data-server          0.7.1\n",
            "tensorflow                       2.12.0\n",
            "tensorflow-datasets              4.9.2\n",
            "tensorflow-estimator             2.12.0\n",
            "tensorflow-gcs-config            2.12.0\n",
            "tensorflow-hub                   0.13.0\n",
            "tensorflow-io-gcs-filesystem     0.32.0\n",
            "tensorflow-metadata              1.13.1\n",
            "tensorflow-probability           0.20.1\n",
            "tensorstore                      0.1.40\n",
            "termcolor                        2.3.0\n",
            "terminado                        0.17.1\n",
            "text-unidecode                   1.3\n",
            "textblob                         0.17.1\n",
            "tf-slim                          1.1.0\n",
            "thinc                            8.1.10\n",
            "threadpoolctl                    3.1.0\n",
            "tifffile                         2023.7.4\n",
            "tinycss2                         1.2.1\n",
            "toml                             0.10.2\n",
            "tomli                            2.0.1\n",
            "toolz                            0.12.0\n",
            "torch                            2.0.1+cu118\n",
            "torchaudio                       2.0.2+cu118\n",
            "torchdata                        0.6.1\n",
            "torchsummary                     1.5.1\n",
            "torchtext                        0.15.2\n",
            "torchvision                      0.15.2+cu118\n",
            "tornado                          6.3.1\n",
            "tqdm                             4.65.0\n",
            "traitlets                        5.7.1\n",
            "triton                           2.0.0\n",
            "tweepy                           4.13.0\n",
            "typer                            0.9.0\n",
            "types-setuptools                 68.0.0.1\n",
            "typing_extensions                4.7.1\n",
            "tzlocal                          5.0.1\n",
            "uritemplate                      4.1.1\n",
            "urllib3                          1.26.16\n",
            "vega-datasets                    0.9.0\n",
            "wasabi                           1.1.2\n",
            "wcwidth                          0.2.6\n",
            "webcolors                        1.13\n",
            "webencodings                     0.5.1\n",
            "websocket-client                 1.6.1\n",
            "Werkzeug                         2.3.6\n",
            "wheel                            0.40.0\n",
            "widgetsnbextension               3.6.4\n",
            "wordcloud                        1.8.2.2\n",
            "wrapt                            1.14.1\n",
            "xarray                           2022.12.0\n",
            "xarray-einstats                  0.5.1\n",
            "xgboost                          1.7.6\n",
            "xlrd                             2.0.1\n",
            "yarl                             1.9.2\n",
            "yellowbrick                      1.5\n",
            "yfinance                         0.2.22\n",
            "zict                             3.0.0\n",
            "zipp                             3.15.0\n"
          ]
        }
      ],
      "source": [
        "!pip list"
      ]
    },
    {
      "cell_type": "code",
      "execution_count": null,
      "metadata": {
        "id": "4VETDTJ0RdyN"
      },
      "outputs": [],
      "source": [
        "\n",
        "#bringing in tensorflow\n",
        "import tensorflow as tf\n"
      ]
    },
    {
      "cell_type": "code",
      "execution_count": null,
      "metadata": {
        "id": "zqhCSZy-UJ5d"
      },
      "outputs": [],
      "source": [
        "# UPLOADING DATASETS FROM FASHION MNSIT\n",
        "import tensorflow_datasets as tfds\n",
        "from matplotlib import pyplot as plt"
      ]
    },
    {
      "cell_type": "markdown",
      "metadata": {
        "id": "T4ilL-cVWKEs"
      },
      "source": [
        "UPLOADING DATASETS TO NOTEBOOK\n"
      ]
    },
    {
      "cell_type": "code",
      "execution_count": null,
      "metadata": {
        "id": "JyAwFd3xVpI9"
      },
      "outputs": [],
      "source": [
        "ds = tfds.load('fashion_mnist',split = 'train')\n"
      ]
    },
    {
      "cell_type": "code",
      "execution_count": null,
      "metadata": {
        "colab": {
          "base_uri": "https://localhost:8080/"
        },
        "id": "XiSiCBQRXL59",
        "outputId": "1dc48302-8fd4-4805-d772-9925df50b43f"
      },
      "outputs": [
        {
          "data": {
            "text/plain": [
              "2"
            ]
          },
          "execution_count": 6,
          "metadata": {},
          "output_type": "execute_result"
        }
      ],
      "source": [
        "ds.as_numpy_iterator().next()['label']"
      ]
    },
    {
      "cell_type": "markdown",
      "metadata": {
        "id": "yoj5So-IXow0"
      },
      "source": [
        "VISUALIZE IMAGES AND BUILD DATA PIPELINE\n"
      ]
    },
    {
      "cell_type": "code",
      "execution_count": null,
      "metadata": {
        "id": "OAkY4CJfWHA1"
      },
      "outputs": [],
      "source": [
        "#for datatransformation\n",
        "import numpy as np\n"
      ]
    },
    {
      "cell_type": "code",
      "execution_count": null,
      "metadata": {
        "id": "_P6ZP3R3YE6E"
      },
      "outputs": [],
      "source": [
        "#build iterator\n",
        "dataiterator = ds.as_numpy_iterator()"
      ]
    },
    {
      "cell_type": "code",
      "execution_count": null,
      "metadata": {
        "colab": {
          "base_uri": "https://localhost:8080/"
        },
        "id": "pAHY_-xPauDC",
        "outputId": "94707bb5-3c77-43fb-f50a-28555cfbef67"
      },
      "outputs": [
        {
          "data": {
            "text/plain": [
              "{'image': array([[[  0],\n",
              "         [  0],\n",
              "         [  0],\n",
              "         [  0],\n",
              "         [  0],\n",
              "         [  0],\n",
              "         [  0],\n",
              "         [  0],\n",
              "         [  0],\n",
              "         [ 18],\n",
              "         [ 77],\n",
              "         [227],\n",
              "         [227],\n",
              "         [208],\n",
              "         [210],\n",
              "         [225],\n",
              "         [216],\n",
              "         [ 85],\n",
              "         [ 32],\n",
              "         [  0],\n",
              "         [  0],\n",
              "         [  0],\n",
              "         [  0],\n",
              "         [  0],\n",
              "         [  0],\n",
              "         [  0],\n",
              "         [  0],\n",
              "         [  0]],\n",
              " \n",
              "        [[  0],\n",
              "         [  0],\n",
              "         [  0],\n",
              "         [  0],\n",
              "         [  0],\n",
              "         [  0],\n",
              "         [  0],\n",
              "         [ 61],\n",
              "         [100],\n",
              "         [ 97],\n",
              "         [ 80],\n",
              "         [ 57],\n",
              "         [117],\n",
              "         [227],\n",
              "         [238],\n",
              "         [115],\n",
              "         [ 49],\n",
              "         [ 78],\n",
              "         [106],\n",
              "         [108],\n",
              "         [ 71],\n",
              "         [  0],\n",
              "         [  0],\n",
              "         [  0],\n",
              "         [  0],\n",
              "         [  0],\n",
              "         [  0],\n",
              "         [  0]],\n",
              " \n",
              "        [[  0],\n",
              "         [  0],\n",
              "         [  0],\n",
              "         [  0],\n",
              "         [  0],\n",
              "         [  0],\n",
              "         [ 81],\n",
              "         [105],\n",
              "         [ 80],\n",
              "         [ 69],\n",
              "         [ 72],\n",
              "         [ 64],\n",
              "         [ 44],\n",
              "         [ 21],\n",
              "         [ 13],\n",
              "         [ 44],\n",
              "         [ 69],\n",
              "         [ 75],\n",
              "         [ 75],\n",
              "         [ 80],\n",
              "         [114],\n",
              "         [ 80],\n",
              "         [  0],\n",
              "         [  0],\n",
              "         [  0],\n",
              "         [  0],\n",
              "         [  0],\n",
              "         [  0]],\n",
              " \n",
              "        [[  0],\n",
              "         [  0],\n",
              "         [  0],\n",
              "         [  0],\n",
              "         [  0],\n",
              "         [ 26],\n",
              "         [ 92],\n",
              "         [ 69],\n",
              "         [ 68],\n",
              "         [ 75],\n",
              "         [ 75],\n",
              "         [ 71],\n",
              "         [ 74],\n",
              "         [ 83],\n",
              "         [ 75],\n",
              "         [ 77],\n",
              "         [ 78],\n",
              "         [ 74],\n",
              "         [ 74],\n",
              "         [ 83],\n",
              "         [ 77],\n",
              "         [108],\n",
              "         [ 34],\n",
              "         [  0],\n",
              "         [  0],\n",
              "         [  0],\n",
              "         [  0],\n",
              "         [  0]],\n",
              " \n",
              "        [[  0],\n",
              "         [  0],\n",
              "         [  0],\n",
              "         [  0],\n",
              "         [  0],\n",
              "         [ 55],\n",
              "         [ 92],\n",
              "         [ 69],\n",
              "         [ 74],\n",
              "         [ 74],\n",
              "         [ 71],\n",
              "         [ 71],\n",
              "         [ 77],\n",
              "         [ 69],\n",
              "         [ 66],\n",
              "         [ 75],\n",
              "         [ 74],\n",
              "         [ 77],\n",
              "         [ 80],\n",
              "         [ 80],\n",
              "         [ 78],\n",
              "         [ 94],\n",
              "         [ 63],\n",
              "         [  0],\n",
              "         [  0],\n",
              "         [  0],\n",
              "         [  0],\n",
              "         [  0]],\n",
              " \n",
              "        [[  0],\n",
              "         [  0],\n",
              "         [  0],\n",
              "         [  0],\n",
              "         [  0],\n",
              "         [ 63],\n",
              "         [ 95],\n",
              "         [ 66],\n",
              "         [ 68],\n",
              "         [ 72],\n",
              "         [ 72],\n",
              "         [ 69],\n",
              "         [ 72],\n",
              "         [ 74],\n",
              "         [ 74],\n",
              "         [ 74],\n",
              "         [ 75],\n",
              "         [ 75],\n",
              "         [ 77],\n",
              "         [ 80],\n",
              "         [ 77],\n",
              "         [106],\n",
              "         [ 61],\n",
              "         [  0],\n",
              "         [  0],\n",
              "         [  0],\n",
              "         [  0],\n",
              "         [  0]],\n",
              " \n",
              "        [[  0],\n",
              "         [  0],\n",
              "         [  0],\n",
              "         [  0],\n",
              "         [  0],\n",
              "         [ 80],\n",
              "         [108],\n",
              "         [ 71],\n",
              "         [ 69],\n",
              "         [ 72],\n",
              "         [ 71],\n",
              "         [ 69],\n",
              "         [ 72],\n",
              "         [ 75],\n",
              "         [ 75],\n",
              "         [ 72],\n",
              "         [ 72],\n",
              "         [ 75],\n",
              "         [ 78],\n",
              "         [ 72],\n",
              "         [ 85],\n",
              "         [128],\n",
              "         [ 64],\n",
              "         [  0],\n",
              "         [  0],\n",
              "         [  0],\n",
              "         [  0],\n",
              "         [  0]],\n",
              " \n",
              "        [[  0],\n",
              "         [  0],\n",
              "         [  0],\n",
              "         [  0],\n",
              "         [  0],\n",
              "         [ 88],\n",
              "         [120],\n",
              "         [ 75],\n",
              "         [ 74],\n",
              "         [ 77],\n",
              "         [ 75],\n",
              "         [ 72],\n",
              "         [ 77],\n",
              "         [ 74],\n",
              "         [ 74],\n",
              "         [ 77],\n",
              "         [ 78],\n",
              "         [ 83],\n",
              "         [ 83],\n",
              "         [ 66],\n",
              "         [111],\n",
              "         [123],\n",
              "         [ 78],\n",
              "         [  0],\n",
              "         [  0],\n",
              "         [  0],\n",
              "         [  0],\n",
              "         [  0]],\n",
              " \n",
              "        [[  0],\n",
              "         [  0],\n",
              "         [  0],\n",
              "         [  0],\n",
              "         [  0],\n",
              "         [ 85],\n",
              "         [134],\n",
              "         [ 74],\n",
              "         [ 85],\n",
              "         [ 69],\n",
              "         [ 75],\n",
              "         [ 75],\n",
              "         [ 74],\n",
              "         [ 75],\n",
              "         [ 74],\n",
              "         [ 75],\n",
              "         [ 75],\n",
              "         [ 81],\n",
              "         [ 75],\n",
              "         [ 61],\n",
              "         [151],\n",
              "         [115],\n",
              "         [ 91],\n",
              "         [ 12],\n",
              "         [  0],\n",
              "         [  0],\n",
              "         [  0],\n",
              "         [  0]],\n",
              " \n",
              "        [[  0],\n",
              "         [  0],\n",
              "         [  0],\n",
              "         [  0],\n",
              "         [ 10],\n",
              "         [ 85],\n",
              "         [153],\n",
              "         [ 83],\n",
              "         [ 80],\n",
              "         [ 68],\n",
              "         [ 77],\n",
              "         [ 75],\n",
              "         [ 74],\n",
              "         [ 75],\n",
              "         [ 74],\n",
              "         [ 75],\n",
              "         [ 77],\n",
              "         [ 80],\n",
              "         [ 68],\n",
              "         [ 61],\n",
              "         [162],\n",
              "         [122],\n",
              "         [ 78],\n",
              "         [  6],\n",
              "         [  0],\n",
              "         [  0],\n",
              "         [  0],\n",
              "         [  0]],\n",
              " \n",
              "        [[  0],\n",
              "         [  0],\n",
              "         [  0],\n",
              "         [  0],\n",
              "         [ 30],\n",
              "         [ 75],\n",
              "         [154],\n",
              "         [ 85],\n",
              "         [ 80],\n",
              "         [ 71],\n",
              "         [ 80],\n",
              "         [ 72],\n",
              "         [ 77],\n",
              "         [ 75],\n",
              "         [ 75],\n",
              "         [ 77],\n",
              "         [ 78],\n",
              "         [ 77],\n",
              "         [ 75],\n",
              "         [ 49],\n",
              "         [191],\n",
              "         [132],\n",
              "         [ 72],\n",
              "         [ 15],\n",
              "         [  0],\n",
              "         [  0],\n",
              "         [  0],\n",
              "         [  0]],\n",
              " \n",
              "        [[  0],\n",
              "         [  0],\n",
              "         [  0],\n",
              "         [  0],\n",
              "         [ 58],\n",
              "         [ 66],\n",
              "         [174],\n",
              "         [115],\n",
              "         [ 66],\n",
              "         [ 77],\n",
              "         [ 80],\n",
              "         [ 72],\n",
              "         [ 78],\n",
              "         [ 75],\n",
              "         [ 77],\n",
              "         [ 78],\n",
              "         [ 78],\n",
              "         [ 77],\n",
              "         [ 66],\n",
              "         [ 49],\n",
              "         [222],\n",
              "         [131],\n",
              "         [ 77],\n",
              "         [ 37],\n",
              "         [  0],\n",
              "         [  0],\n",
              "         [  0],\n",
              "         [  0]],\n",
              " \n",
              "        [[  0],\n",
              "         [  0],\n",
              "         [  0],\n",
              "         [  0],\n",
              "         [ 69],\n",
              "         [ 55],\n",
              "         [179],\n",
              "         [139],\n",
              "         [ 55],\n",
              "         [ 92],\n",
              "         [ 74],\n",
              "         [ 74],\n",
              "         [ 78],\n",
              "         [ 74],\n",
              "         [ 78],\n",
              "         [ 77],\n",
              "         [ 75],\n",
              "         [ 80],\n",
              "         [ 64],\n",
              "         [ 55],\n",
              "         [242],\n",
              "         [111],\n",
              "         [ 95],\n",
              "         [ 44],\n",
              "         [  0],\n",
              "         [  0],\n",
              "         [  0],\n",
              "         [  0]],\n",
              " \n",
              "        [[  0],\n",
              "         [  0],\n",
              "         [  0],\n",
              "         [  0],\n",
              "         [ 74],\n",
              "         [ 57],\n",
              "         [159],\n",
              "         [180],\n",
              "         [ 55],\n",
              "         [ 92],\n",
              "         [ 64],\n",
              "         [ 72],\n",
              "         [ 74],\n",
              "         [ 74],\n",
              "         [ 77],\n",
              "         [ 75],\n",
              "         [ 77],\n",
              "         [ 78],\n",
              "         [ 55],\n",
              "         [ 66],\n",
              "         [255],\n",
              "         [ 97],\n",
              "         [108],\n",
              "         [ 49],\n",
              "         [  0],\n",
              "         [  0],\n",
              "         [  0],\n",
              "         [  0]],\n",
              " \n",
              "        [[  0],\n",
              "         [  0],\n",
              "         [  0],\n",
              "         [  0],\n",
              "         [ 74],\n",
              "         [ 66],\n",
              "         [145],\n",
              "         [153],\n",
              "         [ 72],\n",
              "         [ 83],\n",
              "         [ 58],\n",
              "         [ 78],\n",
              "         [ 77],\n",
              "         [ 75],\n",
              "         [ 75],\n",
              "         [ 75],\n",
              "         [ 72],\n",
              "         [ 80],\n",
              "         [ 30],\n",
              "         [132],\n",
              "         [255],\n",
              "         [ 37],\n",
              "         [122],\n",
              "         [ 60],\n",
              "         [  0],\n",
              "         [  0],\n",
              "         [  0],\n",
              "         [  0]],\n",
              " \n",
              "        [[  0],\n",
              "         [  0],\n",
              "         [  0],\n",
              "         [  0],\n",
              "         [ 80],\n",
              "         [ 69],\n",
              "         [142],\n",
              "         [180],\n",
              "         [142],\n",
              "         [ 57],\n",
              "         [ 64],\n",
              "         [ 78],\n",
              "         [ 74],\n",
              "         [ 75],\n",
              "         [ 75],\n",
              "         [ 75],\n",
              "         [ 72],\n",
              "         [ 85],\n",
              "         [ 21],\n",
              "         [185],\n",
              "         [227],\n",
              "         [ 37],\n",
              "         [143],\n",
              "         [ 63],\n",
              "         [  0],\n",
              "         [  0],\n",
              "         [  0],\n",
              "         [  0]],\n",
              " \n",
              "        [[  0],\n",
              "         [  0],\n",
              "         [  0],\n",
              "         [  0],\n",
              "         [ 83],\n",
              "         [ 71],\n",
              "         [136],\n",
              "         [194],\n",
              "         [126],\n",
              "         [ 46],\n",
              "         [ 69],\n",
              "         [ 75],\n",
              "         [ 72],\n",
              "         [ 75],\n",
              "         [ 75],\n",
              "         [ 75],\n",
              "         [ 74],\n",
              "         [ 78],\n",
              "         [ 38],\n",
              "         [139],\n",
              "         [185],\n",
              "         [ 60],\n",
              "         [151],\n",
              "         [ 58],\n",
              "         [  0],\n",
              "         [  0],\n",
              "         [  0],\n",
              "         [  0]],\n",
              " \n",
              "        [[  0],\n",
              "         [  0],\n",
              "         [  0],\n",
              "         [  4],\n",
              "         [ 81],\n",
              "         [ 74],\n",
              "         [145],\n",
              "         [177],\n",
              "         [ 78],\n",
              "         [ 49],\n",
              "         [ 74],\n",
              "         [ 77],\n",
              "         [ 75],\n",
              "         [ 75],\n",
              "         [ 75],\n",
              "         [ 75],\n",
              "         [ 74],\n",
              "         [ 72],\n",
              "         [ 63],\n",
              "         [ 80],\n",
              "         [156],\n",
              "         [117],\n",
              "         [153],\n",
              "         [ 55],\n",
              "         [  0],\n",
              "         [  0],\n",
              "         [  0],\n",
              "         [  0]],\n",
              " \n",
              "        [[  0],\n",
              "         [  0],\n",
              "         [  0],\n",
              "         [ 10],\n",
              "         [ 80],\n",
              "         [ 72],\n",
              "         [157],\n",
              "         [163],\n",
              "         [ 61],\n",
              "         [ 55],\n",
              "         [ 75],\n",
              "         [ 77],\n",
              "         [ 75],\n",
              "         [ 77],\n",
              "         [ 75],\n",
              "         [ 75],\n",
              "         [ 75],\n",
              "         [ 77],\n",
              "         [ 71],\n",
              "         [ 60],\n",
              "         [ 98],\n",
              "         [156],\n",
              "         [132],\n",
              "         [ 58],\n",
              "         [  0],\n",
              "         [  0],\n",
              "         [  0],\n",
              "         [  0]],\n",
              " \n",
              "        [[  0],\n",
              "         [  0],\n",
              "         [  0],\n",
              "         [ 13],\n",
              "         [ 77],\n",
              "         [ 74],\n",
              "         [157],\n",
              "         [143],\n",
              "         [ 43],\n",
              "         [ 61],\n",
              "         [ 72],\n",
              "         [ 75],\n",
              "         [ 77],\n",
              "         [ 75],\n",
              "         [ 74],\n",
              "         [ 77],\n",
              "         [ 77],\n",
              "         [ 75],\n",
              "         [ 71],\n",
              "         [ 58],\n",
              "         [ 80],\n",
              "         [157],\n",
              "         [120],\n",
              "         [ 66],\n",
              "         [  0],\n",
              "         [  0],\n",
              "         [  0],\n",
              "         [  0]],\n",
              " \n",
              "        [[  0],\n",
              "         [  0],\n",
              "         [  0],\n",
              "         [ 18],\n",
              "         [ 81],\n",
              "         [ 74],\n",
              "         [156],\n",
              "         [114],\n",
              "         [ 35],\n",
              "         [ 72],\n",
              "         [ 71],\n",
              "         [ 75],\n",
              "         [ 78],\n",
              "         [ 72],\n",
              "         [ 66],\n",
              "         [ 80],\n",
              "         [ 78],\n",
              "         [ 77],\n",
              "         [ 75],\n",
              "         [ 64],\n",
              "         [ 63],\n",
              "         [165],\n",
              "         [119],\n",
              "         [ 68],\n",
              "         [  0],\n",
              "         [  0],\n",
              "         [  0],\n",
              "         [  0]],\n",
              " \n",
              "        [[  0],\n",
              "         [  0],\n",
              "         [  0],\n",
              "         [ 23],\n",
              "         [ 85],\n",
              "         [ 81],\n",
              "         [177],\n",
              "         [ 57],\n",
              "         [ 52],\n",
              "         [ 77],\n",
              "         [ 71],\n",
              "         [ 78],\n",
              "         [ 80],\n",
              "         [ 72],\n",
              "         [ 75],\n",
              "         [ 74],\n",
              "         [ 77],\n",
              "         [ 77],\n",
              "         [ 75],\n",
              "         [ 64],\n",
              "         [ 37],\n",
              "         [173],\n",
              "         [ 95],\n",
              "         [ 72],\n",
              "         [  0],\n",
              "         [  0],\n",
              "         [  0],\n",
              "         [  0]],\n",
              " \n",
              "        [[  0],\n",
              "         [  0],\n",
              "         [  0],\n",
              "         [ 26],\n",
              "         [ 81],\n",
              "         [ 86],\n",
              "         [160],\n",
              "         [ 20],\n",
              "         [ 75],\n",
              "         [ 77],\n",
              "         [ 77],\n",
              "         [ 80],\n",
              "         [ 78],\n",
              "         [ 80],\n",
              "         [ 89],\n",
              "         [ 78],\n",
              "         [ 81],\n",
              "         [ 83],\n",
              "         [ 80],\n",
              "         [ 74],\n",
              "         [ 20],\n",
              "         [177],\n",
              "         [ 77],\n",
              "         [ 74],\n",
              "         [  0],\n",
              "         [  0],\n",
              "         [  0],\n",
              "         [  0]],\n",
              " \n",
              "        [[  0],\n",
              "         [  0],\n",
              "         [  0],\n",
              "         [ 49],\n",
              "         [ 77],\n",
              "         [ 91],\n",
              "         [200],\n",
              "         [  0],\n",
              "         [ 83],\n",
              "         [ 95],\n",
              "         [ 86],\n",
              "         [ 88],\n",
              "         [ 88],\n",
              "         [ 89],\n",
              "         [ 88],\n",
              "         [ 89],\n",
              "         [ 88],\n",
              "         [ 83],\n",
              "         [ 89],\n",
              "         [ 86],\n",
              "         [  0],\n",
              "         [191],\n",
              "         [ 78],\n",
              "         [ 80],\n",
              "         [ 24],\n",
              "         [  0],\n",
              "         [  0],\n",
              "         [  0]],\n",
              " \n",
              "        [[  0],\n",
              "         [  0],\n",
              "         [  0],\n",
              "         [ 54],\n",
              "         [ 71],\n",
              "         [108],\n",
              "         [165],\n",
              "         [  0],\n",
              "         [ 24],\n",
              "         [ 57],\n",
              "         [ 52],\n",
              "         [ 57],\n",
              "         [ 60],\n",
              "         [ 60],\n",
              "         [ 60],\n",
              "         [ 63],\n",
              "         [ 63],\n",
              "         [ 77],\n",
              "         [ 89],\n",
              "         [ 52],\n",
              "         [  0],\n",
              "         [211],\n",
              "         [ 97],\n",
              "         [ 77],\n",
              "         [ 61],\n",
              "         [  0],\n",
              "         [  0],\n",
              "         [  0]],\n",
              " \n",
              "        [[  0],\n",
              "         [  0],\n",
              "         [  0],\n",
              "         [ 68],\n",
              "         [ 91],\n",
              "         [117],\n",
              "         [137],\n",
              "         [  0],\n",
              "         [  0],\n",
              "         [  0],\n",
              "         [  0],\n",
              "         [  0],\n",
              "         [  0],\n",
              "         [  0],\n",
              "         [  0],\n",
              "         [  0],\n",
              "         [  0],\n",
              "         [  0],\n",
              "         [  0],\n",
              "         [  0],\n",
              "         [ 18],\n",
              "         [216],\n",
              "         [ 94],\n",
              "         [ 97],\n",
              "         [ 57],\n",
              "         [  0],\n",
              "         [  0],\n",
              "         [  0]],\n",
              " \n",
              "        [[  0],\n",
              "         [  0],\n",
              "         [  0],\n",
              "         [ 54],\n",
              "         [115],\n",
              "         [105],\n",
              "         [185],\n",
              "         [  0],\n",
              "         [  0],\n",
              "         [  1],\n",
              "         [  0],\n",
              "         [  0],\n",
              "         [  0],\n",
              "         [  0],\n",
              "         [  0],\n",
              "         [  0],\n",
              "         [  0],\n",
              "         [  0],\n",
              "         [  0],\n",
              "         [  0],\n",
              "         [  0],\n",
              "         [153],\n",
              "         [ 78],\n",
              "         [106],\n",
              "         [ 37],\n",
              "         [  0],\n",
              "         [  0],\n",
              "         [  0]],\n",
              " \n",
              "        [[  0],\n",
              "         [  0],\n",
              "         [  0],\n",
              "         [ 18],\n",
              "         [ 61],\n",
              "         [ 41],\n",
              "         [103],\n",
              "         [  0],\n",
              "         [  0],\n",
              "         [  0],\n",
              "         [  0],\n",
              "         [  0],\n",
              "         [  0],\n",
              "         [  0],\n",
              "         [  0],\n",
              "         [  0],\n",
              "         [  0],\n",
              "         [  0],\n",
              "         [  0],\n",
              "         [  0],\n",
              "         [  0],\n",
              "         [106],\n",
              "         [ 47],\n",
              "         [ 69],\n",
              "         [ 23],\n",
              "         [  0],\n",
              "         [  0],\n",
              "         [  0]]], dtype=uint8),\n",
              " 'label': 2}"
            ]
          },
          "execution_count": 9,
          "metadata": {},
          "output_type": "execute_result"
        }
      ],
      "source": [
        "#getting data out of the pipeline\n",
        "\n",
        "dataiterator.next()\n"
      ]
    },
    {
      "cell_type": "code",
      "execution_count": null,
      "metadata": {
        "colab": {
          "base_uri": "https://localhost:8080/"
        },
        "id": "JTZYMZqaeVS-",
        "outputId": "1e5b79ae-b22c-4cf9-d893-86b7168ff92f"
      },
      "outputs": [
        {
          "data": {
            "text/plain": [
              "(28, 28)"
            ]
          },
          "execution_count": 10,
          "metadata": {},
          "output_type": "execute_result"
        }
      ],
      "source": [
        "np.squeeze(dataiterator.next()['image']).shape"
      ]
    },
    {
      "cell_type": "code",
      "execution_count": null,
      "metadata": {
        "colab": {
          "base_uri": "https://localhost:8080/",
          "height": 395
        },
        "id": "euifrUHRbFTJ",
        "outputId": "1093c73b-2dca-47a5-e599-974857d794a6"
      },
      "outputs": [
        {
          "data": {
            "image/png": "[encoded data removed]",
            "text/plain": [
              "<Figure size 2000x2000 with 4 Axes>"
            ]
          },
          "metadata": {},
          "output_type": "display_data"
        }
      ],
      "source": [
        "fig, ax = plt.subplots(ncols=4,figsize = (20,20))\n",
        "#loop 4 times to get the images in 1 batch\n",
        "for idx in range(4):\n",
        "    batch = dataiterator.next()\n",
        "    #imageshow function = imshow\n",
        "    ax[idx].imshow(np.squeeze(batch['image']))\n",
        "    ax[idx].title.set_text(batch['label'])"
      ]
    },
    {
      "cell_type": "markdown",
      "metadata": {
        "id": "z3mOVgf3kcUy"
      },
      "source": [
        " # DATA PROCESSING\n"
      ]
    },
    {
      "cell_type": "code",
      "execution_count": null,
      "metadata": {
        "id": "8LQ_5-ZEkb35"
      },
      "outputs": [],
      "source": [
        "#scalling images from value range between 0- 2555 to 0 -1\n",
        "def scale_images(data):\n",
        "  image = data['image']\n",
        "  return image/255"
      ]
    },
    {
      "cell_type": "markdown",
      "metadata": {
        "id": "DAAjx4cyn_Q-"
      },
      "source": [
        "steps that we use wen we build a tensorflow pipeline :\n",
        "map\n",
        "cache\n",
        "shuffle\n",
        "batch\n",
        "prefetch"
      ]
    },
    {
      "cell_type": "code",
      "execution_count": null,
      "metadata": {
        "id": "5ooIv8dTm-E-"
      },
      "outputs": [],
      "source": [
        "#reload the dataset\n",
        "ds = tfds.load('fashion_mnist',split = 'train')\n",
        "#running the ds through the scale_images preprocessing step (we are overriding the variable ds)\n",
        "ds = ds.map(scale_images)\n",
        "#cache the dataset for theat batch\n",
        "ds = ds.cache()\n",
        "#shuffle as to ensure that we are shuffling the datasets\n",
        "ds = ds.shuffle(60000) #to specify the shuffle buffiness be\n",
        "#batch into 128 images?\n",
        "ds = ds.batch(128)\n",
        "#slows down the likelihood of bottlenecking\n",
        "ds = ds.prefetch(64) #prefetch passing through 64"
      ]
    },
    {
      "cell_type": "code",
      "execution_count": null,
      "metadata": {
        "colab": {
          "base_uri": "https://localhost:8080/"
        },
        "id": "1_a5rSRfow4t",
        "outputId": "4d7353ff-45bd-4689-a199-97a1e9dff7fa"
      },
      "outputs": [
        {
          "data": {
            "text/plain": [
              "(128, 28, 28, 1)"
            ]
          },
          "execution_count": 14,
          "metadata": {},
          "output_type": "execute_result"
        }
      ],
      "source": [
        "ds.as_numpy_iterator().next().shape"
      ]
    },
    {
      "cell_type": "markdown",
      "metadata": {
        "id": "u3OGK93Xqowd"
      },
      "source": [
        "#BUILD NEURAL NETWORK\n",
        "\n",
        " 1. IMPORT MODELLING COMPONENTS\n",
        " 2. BUILD GENERATOR\n",
        " 3. BUILD DISCRIMINATOR"
      ]
    },
    {
      "cell_type": "code",
      "execution_count": null,
      "metadata": {
        "id": "_agm1cTLqfdl"
      },
      "outputs": [],
      "source": [
        "#1. # BRING IN SOME MORE DEPENDENCIES\n",
        "# Bring in the sequential api for the generator and discriminator\n",
        "from tensorflow.keras.models import Sequential\n",
        "\n",
        "# Bring in the layers for the neural network\n",
        "from tensorflow.keras.layers import Conv2D, Dense, Flatten, Reshape, LeakyReLU, Dropout, UpSampling2D"
      ]
    },
    {
      "cell_type": "markdown",
      "metadata": {
        "id": "FjNhx4QwjoZZ"
      },
      "source": [
        "### BUILDING GENERATOR\n"
      ]
    },
    {
      "cell_type": "code",
      "execution_count": null,
      "metadata": {
        "id": "L6iESiQCy8l0"
      },
      "outputs": [],
      "source": [
        "#CREATING A FUNCTION\n",
        "def build_generator():\n",
        "  model = Sequential()\n",
        "\n",
        "  #what our input layer is going to be --> a dense fully connected layer | 7*7*128 - no of units-pass 128 random values to generator to help it determine what to generate from there -generator generate random values data 128 will be convertd into a spacial area - array of 128 values so we will convert it into a space of 7 by 7 dimension )\n",
        "  model.add(Dense(7*7*128,input_dim= 128))\n",
        "\n",
        "  #applying an activation while we are appplying a leaky ReLU-cater for non linearities in our model\n",
        "  model.add(LeakyReLU(0.2))\n",
        "\n",
        "  # 7,7,128- set of arrays so dont forget to wrap it in a bracket\n",
        "  model.add(Reshape((7,7,128)))\n",
        "\n",
        "  #USING CONV2D AND UP SAMPLING LAYERS TO GET US TO 28,28,1 INSTEAD OF 7,7,128\n",
        "\n",
        "#  ^| did reshaping from the input dimensions of a 128\n",
        "\n",
        "  #UPSAMPLING BLOCK 1 -double the spacial quality-->went to 14,14,128\n",
        "  model.add(UpSampling2D())\n",
        "  model.add(Conv2D(128,5,padding = 'same'))\n",
        "  model.add(LeakyReLU(0.2))\n",
        "\n",
        "  #UPSAMPLING BLOCK 2 --> took it to 28,28,128\n",
        "  model.add(UpSampling2D())\n",
        "  model.add(Conv2D(128,5,padding = 'same'))\n",
        "  model.add(LeakyReLU(0.2))\n",
        "\n",
        "   #DOWNSAMPLING BLOCK 1-->(convolutional block -->)maintainging spacial shape as padding = same\n",
        "  model.add(Conv2D(128,4,padding = 'same'))\n",
        "  model.add(LeakyReLU(0.2))\n",
        "\n",
        "   #DOWNSAMPLING BLOCK 2 -->(convolutional block -->)\n",
        "  model.add(Conv2D(128,4, padding= 'same' ))\n",
        "  model.add(LeakyReLU(0.2))\n",
        "\n",
        "  #conv layer to get to one channel\n",
        "  model.add(Conv2D(1,4,padding = 'same', activation= 'sigmoid')) # 1 kernel of 4 by 4 dim\n",
        "\n",
        "  return model"
      ]
    },
    {
      "cell_type": "code",
      "execution_count": null,
      "metadata": {
        "id": "qVn4i1_Oo_k5"
      },
      "outputs": [],
      "source": [
        "generator = build_generator()#define test model"
      ]
    },
    {
      "cell_type": "code",
      "execution_count": null,
      "metadata": {
        "colab": {
          "base_uri": "https://localhost:8080/"
        },
        "id": "TcRRAWYUpRaD",
        "outputId": "c6fd884f-5000-41de-e699-83918b9008cd"
      },
      "outputs": [
        {
          "name": "stdout",
          "output_type": "stream",
          "text": [
            "Model: \"sequential\"\n",
            "_________________________________________________________________\n",
            " Layer (type)                Output Shape              Param #   \n",
            "=================================================================\n",
            " dense (Dense)               (None, 6272)              809088    \n",
            "                                                                 \n",
            " leaky_re_lu (LeakyReLU)     (None, 6272)              0         \n",
            "                                                                 \n",
            " reshape (Reshape)           (None, 7, 7, 128)         0         \n",
            "                                                                 \n",
            " up_sampling2d (UpSampling2D  (None, 14, 14, 128)      0         \n",
            " )                                                               \n",
            "                                                                 \n",
            " conv2d (Conv2D)             (None, 14, 14, 128)       409728    \n",
            "                                                                 \n",
            " leaky_re_lu_1 (LeakyReLU)   (None, 14, 14, 128)       0         \n",
            "                                                                 \n",
            " up_sampling2d_1 (UpSampling  (None, 28, 28, 128)      0         \n",
            " 2D)                                                             \n",
            "                                                                 \n",
            " conv2d_1 (Conv2D)           (None, 28, 28, 128)       409728    \n",
            "                                                                 \n",
            " leaky_re_lu_2 (LeakyReLU)   (None, 28, 28, 128)       0         \n",
            "                                                                 \n",
            " conv2d_2 (Conv2D)           (None, 28, 28, 128)       262272    \n",
            "                                                                 \n",
            " leaky_re_lu_3 (LeakyReLU)   (None, 28, 28, 128)       0         \n",
            "                                                                 \n",
            " conv2d_3 (Conv2D)           (None, 28, 28, 128)       262272    \n",
            "                                                                 \n",
            " leaky_re_lu_4 (LeakyReLU)   (None, 28, 28, 128)       0         \n",
            "                                                                 \n",
            " conv2d_4 (Conv2D)           (None, 28, 28, 1)         2049      \n",
            "                                                                 \n",
            "=================================================================\n",
            "Total params: 2,155,137\n",
            "Trainable params: 2,155,137\n",
            "Non-trainable params: 0\n",
            "_________________________________________________________________\n"
          ]
        }
      ],
      "source": [
        "generator.summary()"
      ]
    },
    {
      "cell_type": "markdown",
      "metadata": {
        "id": "mOwPRF_FEv26"
      },
      "source": [
        "Passing random values to generator to test\n"
      ]
    },
    {
      "cell_type": "code",
      "execution_count": null,
      "metadata": {
        "colab": {
          "base_uri": "https://localhost:8080/"
        },
        "id": "dxr5QTqpE2gh",
        "outputId": "81eea073-e567-44a0-8c74-48f595cd13a4"
      },
      "outputs": [
        {
          "name": "stdout",
          "output_type": "stream",
          "text": [
            "1/1 [==============================] - 1s 562ms/step\n"
          ]
        }
      ],
      "source": [
        "img = generator.predict(np.random.randn(4,128,1))\n"
      ]
    },
    {
      "cell_type": "code",
      "execution_count": null,
      "metadata": {
        "colab": {
          "base_uri": "https://localhost:8080/"
        },
        "id": "QZSRCenbP7S6",
        "outputId": "6d724901-6daa-4259-d62d-94a08a8f2a94"
      },
      "outputs": [
        {
          "name": "stdout",
          "output_type": "stream",
          "text": [
            "1/1 [==============================] - 0s 248ms/step\n"
          ]
        },
        {
          "data": {
            "text/plain": [
              "(4, 28, 28, 1)"
            ]
          },
          "execution_count": 20,
          "metadata": {},
          "output_type": "execute_result"
        }
      ],
      "source": [
        "\n",
        "img = generator.predict(np.random.randn(4,128,1))\n",
        "img.shape"
      ]
    },
    {
      "cell_type": "code",
      "execution_count": null,
      "metadata": {
        "colab": {
          "base_uri": "https://localhost:8080/",
          "height": 395
        },
        "id": "EPRLJ4HpFqzR",
        "outputId": "45960116-ab65-4eed-9ba3-225b03e22078"
      },
      "outputs": [
        {
          "data": {
            "image/png": "[encoded data removed]",
            "text/plain": [
              "<Figure size 2000x2000 with 4 Axes>"
            ]
          },
          "metadata": {},
          "output_type": "display_data"
        }
      ],
      "source": [
        "\n",
        "\n",
        "#set up the subplot format\n",
        "fig, ax = plt.subplots(ncols=4,figsize = (20,20))\n",
        "#loop 4 times to get the images in 1 batch\n",
        "for idx, img in enumerate(img):\n",
        "    #imageshow function = imshow\n",
        "    #plot the images using a specific subplot\n",
        "    ax[idx].imshow(np.squeeze(img))\n",
        "    #appending the image label as the plot title\n",
        "    ax[idx].title.set_text(idx)"
      ]
    },
    {
      "cell_type": "markdown",
      "metadata": {
        "id": "CM2-EqQ2znY-"
      },
      "source": [
        "###BUILD DISCRIMINATOR"
      ]
    },
    {
      "cell_type": "code",
      "execution_count": null,
      "metadata": {
        "colab": {
          "base_uri": "https://localhost:8080/"
        },
        "id": "WH6oErqJQ8UJ",
        "outputId": "9ca29ef6-e130-4649-e12d-3c99345cf246"
      },
      "outputs": [
        {
          "data": {
            "text/plain": [
              "(28, 28, 1)"
            ]
          },
          "execution_count": 22,
          "metadata": {},
          "output_type": "execute_result"
        }
      ],
      "source": [
        "img.shape"
      ]
    },
    {
      "cell_type": "code",
      "execution_count": null,
      "metadata": {
        "id": "3Sn7eVMiqGRw"
      },
      "outputs": [],
      "source": [
        "\n",
        "#JUST A IMAGE CLASSIFIER - WE JUST ADD LAYER TO INCREASE THE REGULARIZATION\n",
        "def build_discriminator():\n",
        "  model = Sequential()\n",
        "\n",
        "#1ST Conv2D block\n",
        "  model.add(Conv2D(32, 5,input_shape = (28,28,1)))# (height, width, channels) #32 filters and have the shape of 5 by 5 |we are not condensing padding = same so it will start condensing down the information it is getting | input of D will be same as the Output of G\n",
        "\n",
        "  #adding activation layer\n",
        "  model.add(LeakyReLU(0.2))\n",
        "  #applying the dropout as we want to make it hard for D to learn | so dropout effectively and add regularizations to the model\n",
        "  model.add(Dropout(0.4)) #set positional args as 0.4 i.e the strength of the dropout\n",
        "\n",
        "#2nd Conv block\n",
        "  model.add(Conv2D(64, 5))#we remove the input shape attribute  need to specify the input shape as it is not the 1st input layer\n",
        "  model.add(LeakyReLU(0.2))\n",
        "  model.add(Dropout(0.4))\n",
        "\n",
        "\n",
        "#3rd Conv block\n",
        "  model.add(Conv2D(128, 5))\n",
        "  model.add(LeakyReLU(0.2))\n",
        "  model.add(Dropout(0.4))\n",
        "\n",
        "#4th Conv block\n",
        "  model.add(Conv2D(256, 5))#256, represents the number of output channels in the layer | 5, corresponds to the kernel size, indicating a 5x5 receptive field.\n",
        "  model.add(LeakyReLU(0.2))\n",
        "  model.add(Dropout(0.4))\n",
        "\n",
        "  #flatten then pass to dense layer\n",
        "  model.add(Flatten())\n",
        "  #it is a good practise to add Dropout after flatten\n",
        "  model.add(Dropout(0.4)) ## check if by removing this layer we are getting good performance\n",
        "  model.add(Dense(1,activation =\"sigmoid\") )#1- false img |0- true image\n",
        "  # 1, denotes the number of neurons in the layer, which corresponds to a single output unit.\n",
        "  # The activation='sigmoid' parameter specifies that the sigmoid activation function is applied to the output of this layer.###\n",
        "\n",
        "\n",
        "\n",
        "  return model\n"
      ]
    },
    {
      "cell_type": "code",
      "execution_count": null,
      "metadata": {
        "id": "0cI-pc_a8H7x"
      },
      "outputs": [],
      "source": [
        "#setup a instance of a disciminator\n",
        "discriminator = build_discriminator()"
      ]
    },
    {
      "cell_type": "code",
      "execution_count": null,
      "metadata": {
        "colab": {
          "base_uri": "https://localhost:8080/"
        },
        "id": "6vv9NAtPADu0",
        "outputId": "cc7e7584-4f16-4a4f-b193-db4ef69400f5"
      },
      "outputs": [
        {
          "name": "stdout",
          "output_type": "stream",
          "text": [
            "Model: \"sequential_1\"\n",
            "_________________________________________________________________\n",
            " Layer (type)                Output Shape              Param #   \n",
            "=================================================================\n",
            " conv2d_5 (Conv2D)           (None, 24, 24, 32)        832       \n",
            "                                                                 \n",
            " leaky_re_lu_5 (LeakyReLU)   (None, 24, 24, 32)        0         \n",
            "                                                                 \n",
            " dropout (Dropout)           (None, 24, 24, 32)        0         \n",
            "                                                                 \n",
            " conv2d_6 (Conv2D)           (None, 20, 20, 64)        51264     \n",
            "                                                                 \n",
            " leaky_re_lu_6 (LeakyReLU)   (None, 20, 20, 64)        0         \n",
            "                                                                 \n",
            " dropout_1 (Dropout)         (None, 20, 20, 64)        0         \n",
            "                                                                 \n",
            " conv2d_7 (Conv2D)           (None, 16, 16, 128)       204928    \n",
            "                                                                 \n",
            " leaky_re_lu_7 (LeakyReLU)   (None, 16, 16, 128)       0         \n",
            "                                                                 \n",
            " dropout_2 (Dropout)         (None, 16, 16, 128)       0         \n",
            "                                                                 \n",
            " conv2d_8 (Conv2D)           (None, 12, 12, 256)       819456    \n",
            "                                                                 \n",
            " leaky_re_lu_8 (LeakyReLU)   (None, 12, 12, 256)       0         \n",
            "                                                                 \n",
            " dropout_3 (Dropout)         (None, 12, 12, 256)       0         \n",
            "                                                                 \n",
            " flatten (Flatten)           (None, 36864)             0         \n",
            "                                                                 \n",
            " dropout_4 (Dropout)         (None, 36864)             0         \n",
            "                                                                 \n",
            " dense_1 (Dense)             (None, 1)                 36865     \n",
            "                                                                 \n",
            "=================================================================\n",
            "Total params: 1,113,345\n",
            "Trainable params: 1,113,345\n",
            "Non-trainable params: 0\n",
            "_________________________________________________________________\n"
          ]
        }
      ],
      "source": [
        "discriminator.summary()"
      ]
    },
    {
      "cell_type": "code",
      "execution_count": null,
      "metadata": {
        "colab": {
          "base_uri": "https://localhost:8080/"
        },
        "id": "H0_1e42UQmHR",
        "outputId": "d8537675-958a-4412-b323-69d4a95c5ffd"
      },
      "outputs": [
        {
          "data": {
            "text/plain": [
              "(28, 28, 1)"
            ]
          },
          "execution_count": 26,
          "metadata": {},
          "output_type": "execute_result"
        }
      ],
      "source": [
        "img.shape"
      ]
    },
    {
      "cell_type": "code",
      "execution_count": null,
      "metadata": {
        "colab": {
          "base_uri": "https://localhost:8080/"
        },
        "id": "pUS5lXHJAv90",
        "outputId": "7bf2e9db-e8c9-4150-b3cf-34d279c7ddfe"
      },
      "outputs": [
        {
          "name": "stdout",
          "output_type": "stream",
          "text": [
            "1/1 [==============================] - 0s 189ms/step\n"
          ]
        },
        {
          "data": {
            "text/plain": [
              "array([[0.5030638]], dtype=float32)"
            ]
          },
          "execution_count": 27,
          "metadata": {},
          "output_type": "execute_result"
        }
      ],
      "source": [
        "#discriminator.predict(img)\n",
        "discriminator.predict(np.expand_dims(img,0))\n"
      ]
    },
    {
      "cell_type": "markdown",
      "metadata": {
        "id": "4kAWtf8f3zY0"
      },
      "source": [
        "#TRAINING LOOP"
      ]
    },
    {
      "cell_type": "markdown",
      "metadata": {
        "id": "72F1r5VahNoe"
      },
      "source": [
        "\n",
        "  - Write the code to train the generator and discriminator simultaneously.\n",
        "  - we need more than .fit method for it to work so we define our own custom training set\n",
        "\n",
        "  - by using the trainng loop we are just trying to change the .fit function by defining our own training set\n",
        "\n",
        "\n",
        "\n"
      ]
    },
    {
      "cell_type": "markdown",
      "metadata": {
        "id": "kSiPoGjR01kI"
      },
      "source": [
        "SETUP LOSSES AND OPTIMIZERS"
      ]
    },
    {
      "cell_type": "code",
      "execution_count": null,
      "metadata": {
        "id": "bp4ra7wbhxpY"
      },
      "outputs": [],
      "source": [
        "#use binary cross entropy and use adam optimizers\n",
        "# Adam is going to be the optimizer for both\n",
        "from tensorflow.keras.optimizers import Adam\n",
        "#BinaryCrossEntropy will be the loss for both\n",
        "from tensorflow.keras.losses import BinaryCrossentropy\n"
      ]
    },
    {
      "cell_type": "code",
      "execution_count": null,
      "metadata": {
        "id": "WhC1z7wGMvM3"
      },
      "outputs": [],
      "source": [
        "#create instances of the optimizers\n",
        "g_opt = Adam (learning_rate = 0.0001) #learning rate of the generator will be fater than that of the discriminator as we dont want the discriminator to go too fast and smash our generator\n",
        "d_opt = Adam(learning_rate = 0.00001)\n",
        "\n",
        "#create instances of the optimizers and losses\n",
        "g_loss = BinaryCrossentropy()\n",
        "d_loss = BinaryCrossentropy()\n"
      ]
    },
    {
      "cell_type": "markdown",
      "metadata": {
        "id": "9UxorOub3R-c"
      },
      "source": [
        "BUILD SUBCLASSED MODEL"
      ]
    },
    {
      "cell_type": "code",
      "execution_count": null,
      "metadata": {
        "id": "aBrzpP4D3K2N"
      },
      "outputs": [],
      "source": [
        "#IMPORTING THE BASE MODEL CLASS TO SUBCLASS\n",
        "from tensorflow.keras.models import Model"
      ]
    },
    {
      "cell_type": "code",
      "execution_count": null,
      "metadata": {
        "colab": {
          "base_uri": "https://localhost:8080/"
        },
        "id": "hdcpCQrodYCs",
        "outputId": "4f171966-6b34-4be8-ef69-407d0fadb492"
      },
      "outputs": [
        {
          "data": {
            "text/plain": [
              "<tf.Tensor: shape=(12, 128), dtype=float32, numpy=\n",
              "array([[0., 0., 0., ..., 0., 0., 0.],\n",
              "       [0., 0., 0., ..., 0., 0., 0.],\n",
              "       [0., 0., 0., ..., 0., 0., 0.],\n",
              "       ...,\n",
              "       [1., 1., 1., ..., 1., 1., 1.],\n",
              "       [1., 1., 1., ..., 1., 1., 1.],\n",
              "       [1., 1., 1., ..., 1., 1., 1.]], dtype=float32)>"
            ]
          },
          "execution_count": 31,
          "metadata": {},
          "output_type": "execute_result"
        }
      ],
      "source": [
        "tf.concat([tf.zeros_like(tf.random.normal((6,128))),tf.ones_like(tf.random.normal((6,128)))], axis =0)"
      ]
    },
    {
      "cell_type": "code",
      "execution_count": null,
      "metadata": {
        "id": "lPdVvcrB5NmC"
      },
      "outputs": [],
      "source": [
        "class FashionGAN(Model):\n",
        "    def __init__(self, generator, discriminator, *args, **kwargs):\n",
        "        # Pass through args and kwargs to base class\n",
        "        super().__init__(*args, **kwargs)\n",
        "\n",
        "        # Create attributes for gen and disc\n",
        "        self.generator = generator\n",
        "        self.discriminator = discriminator\n",
        "\n",
        "    def compile(self, g_opt, d_opt, g_loss, d_loss, *args, **kwargs):\n",
        "        # Compile with base class\n",
        "        super().compile(*args, **kwargs)\n",
        "\n",
        "        # Create attributes for losses and optimizers\n",
        "        self.g_opt = g_opt\n",
        "        self.d_opt = d_opt\n",
        "        self.g_loss = g_loss\n",
        "        self.d_loss = d_loss\n",
        "\n",
        "    def train_step(self, batch):\n",
        "        # Get the data and load images\n",
        "        real_images = batch\n",
        "        fake_images = self.generator(tf.random.normal((128, 128, 1)), training=False)\n",
        "\n",
        "        # Train the discriminator\n",
        "        with tf.GradientTape() as d_tape:\n",
        "            # Pass the real and fake images to the discriminator model\n",
        "            yhat_real = self.discriminator(real_images, training=True)\n",
        "            yhat_fake = self.discriminator(fake_images, training=True)\n",
        "            yhat_realfake = tf.concat([yhat_real, yhat_fake], axis=0)\n",
        "\n",
        "            # Create labels for real and fakes images\n",
        "            y_realfake = tf.concat([tf.zeros_like(yhat_real), tf.ones_like(yhat_fake)], axis=0)\n",
        "\n",
        "            # Add some noise to the TRUE outputs\n",
        "            noise_real = 0.15*tf.random.uniform(tf.shape(yhat_real))\n",
        "            noise_fake = -0.15*tf.random.uniform(tf.shape(yhat_fake))\n",
        "            y_realfake += tf.concat([noise_real, noise_fake], axis=0)\n",
        "\n",
        "            # Calculate loss - BINARYCROSS\n",
        "            total_d_loss = self.d_loss(y_realfake, yhat_realfake)\n",
        "\n",
        "        # Apply backpropagation - nn learn\n",
        "        dgrad = d_tape.gradient(total_d_loss, self.discriminator.trainable_variables)\n",
        "        self.d_opt.apply_gradients(zip(dgrad, self.discriminator.trainable_variables))\n",
        "\n",
        "        # Train the generator\n",
        "        with tf.GradientTape() as g_tape:\n",
        "            # Generate some new images\n",
        "            gen_images = self.generator(tf.random.normal((128,128,1)), training=True)\n",
        "\n",
        "            # Create the predicted labels\n",
        "            predicted_labels = self.discriminator(gen_images, training=False)\n",
        "\n",
        "            # Calculate loss - trick to training to fake out the discriminator\n",
        "            total_g_loss = self.g_loss(tf.zeros_like(predicted_labels), predicted_labels)\n",
        "\n",
        "        # Apply backprop\n",
        "        ggrad = g_tape.gradient(total_g_loss, self.generator.trainable_variables)\n",
        "        self.g_opt.apply_gradients(zip(ggrad, self.generator.trainable_variables))\n",
        "\n",
        "        return {\"d_loss\":total_d_loss, \"g_loss\":total_g_loss}"
      ]
    },
    {
      "cell_type": "code",
      "execution_count": null,
      "metadata": {
        "id": "Ro7slnGp5_kx"
      },
      "outputs": [],
      "source": [
        "# Create instance of subclassed model\n",
        "fashgan = FashionGAN(generator, discriminator)"
      ]
    },
    {
      "cell_type": "code",
      "execution_count": null,
      "metadata": {
        "id": "YtjD1F4M6DMh"
      },
      "outputs": [],
      "source": [
        "# Compile the model\n",
        "fashgan.compile(g_opt, d_opt, g_loss, d_loss)\n"
      ]
    },
    {
      "cell_type": "markdown",
      "metadata": {
        "id": "Jal8qy9G901d"
      },
      "source": [
        "Build Callback\n"
      ]
    },
    {
      "cell_type": "code",
      "execution_count": null,
      "metadata": {
        "id": "gL0V3J006GpB"
      },
      "outputs": [],
      "source": [
        "import os\n",
        "from tensorflow.keras.preprocessing.image import array_to_img\n",
        "from tensorflow.keras.callbacks import Callback"
      ]
    },
    {
      "cell_type": "code",
      "execution_count": null,
      "metadata": {
        "id": "zlU3EQak96Td"
      },
      "outputs": [],
      "source": [
        "class ModelMonitor(Callback):#save examples that we want to save\n",
        "    def __init__(self, num_img=3, latent_dim=128):\n",
        "        self.num_img = num_img\n",
        "        self.latent_dim = latent_dim\n",
        "\n",
        "    def on_epoch_end(self, epoch, logs=None):\n",
        "        random_latent_vectors = tf.random.uniform((self.num_img, self.latent_dim,1))\n",
        "        generated_images = self.model.generator(random_latent_vectors)\n",
        "        generated_images *= 255\n",
        "        generated_images.numpy()\n",
        "        for i in range(self.num_img):\n",
        "            img = array_to_img(generated_images[i])\n",
        "            img.save(os.path.join('GANsimages', f'generated_img_{epoch}_{i}.png'))\n"
      ]
    },
    {
      "cell_type": "markdown",
      "metadata": {
        "id": "rCXQSWj_9_Nf"
      },
      "source": [
        "Train"
      ]
    },
    {
      "cell_type": "code",
      "execution_count": null,
      "metadata": {
        "colab": {
          "background_save": true,
          "base_uri": "https://localhost:8080/"
        },
        "id": "wOo2JhsP98w_",
        "outputId": "8add7d15-f3dd-4388-f677-ba791153015c"
      },
      "outputs": [
        {
          "name": "stdout",
          "output_type": "stream",
          "text": [
            "Epoch 1/200\n",
            "115/469 [======>.......................] - ETA: 3:03:53 - d_loss: 0.6735 - g_loss: 0.8348"
          ]
        }
      ],
      "source": [
        "# Recommend 2000 epochs\n",
        "hist = fashgan.fit(ds, epochs=200, callbacks=[ModelMonitor()])"
      ]
    },
    {
      "cell_type": "markdown",
      "metadata": {
        "id": "uurD42lp1fQA"
      },
      "source": [
        "Review Performance"
      ]
    },
    {
      "cell_type": "code",
      "execution_count": null,
      "metadata": {
        "id": "vvY9tpAP1etR"
      },
      "outputs": [],
      "source": [
        "plt.subtitle('loss')\n",
        "plt.plot(hist.history['d_loss'],label ='d_loss' )\n",
        "plt.plot(hist.history['g_loss'], label = 'g_loss')\n",
        "plt.legend()\n",
        "plt.show()"
      ]
    },
    {
      "cell_type": "markdown",
      "metadata": {
        "id": "2B5h48JV4qwl"
      },
      "source": [
        "Testing the Generator"
      ]
    },
    {
      "cell_type": "markdown",
      "metadata": {
        "id": "R-fTgS8y5RVc"
      },
      "source": [
        "generate images"
      ]
    },
    {
      "cell_type": "code",
      "execution_count": null,
      "metadata": {
        "id": "x-CdnY334h_t"
      },
      "outputs": [],
      "source": [
        "imgs = generator.predict(tf.random.normal((16,128,1)))\n"
      ]
    },
    {
      "cell_type": "code",
      "execution_count": null,
      "metadata": {
        "id": "hOypShmv6Pl_"
      },
      "outputs": [],
      "source": [
        "fig,ax = plt.subplots(ncols =4,nrows = 4, figsize = (20,20))\n",
        "for r in range(4):\n",
        "  for c in range (4):\n",
        "    ax[r][c].imshow(imgs[(r+1)*(c+1)-1])"
      ]
    },
    {
      "cell_type": "markdown",
      "metadata": {
        "id": "nx6krMsX6zw7"
      },
      "source": [
        "Save the model"
      ]
    },
    {
      "cell_type": "code",
      "execution_count": null,
      "metadata": {
        "id": "N_bYpnbr6zV9"
      },
      "outputs": [],
      "source": [
        "generator.save(\"generator.h5\")\n",
        "discriminator.save(\"discriminator.h5\")"
      ]
    }
  ],
  "metadata": {
    "accelerator": "GPU",
    "colab": {
      "provenance": [],
      "gpuType": "T4"
    },
    "kernelspec": {
      "display_name": "Python 3",
      "name": "python3"
    },
    "language_info": {
      "name": "python"
    }
  },
  "nbformat": 4,
  "nbformat_minor": 0
}